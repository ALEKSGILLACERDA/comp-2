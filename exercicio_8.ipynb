{
  "cells": [
    {
      "cell_type": "markdown",
      "metadata": {
        "id": "view-in-github",
        "colab_type": "text"
      },
      "source": [
        "<a href=\"https://colab.research.google.com/github/ALEKSGILLACERDA/comp-2/blob/main/exercicio_8.ipynb\" target=\"_parent\"><img src=\"https://colab.research.google.com/assets/colab-badge.svg\" alt=\"Open In Colab\"/></a>"
      ]
    },
    {
      "cell_type": "markdown",
      "source": [
        "Exercício 1: Somar os elementos de uma lista\n",
        "\n",
        "Dada a lista de números:\n",
        "[10, 20, 30, 40, 50]"
      ],
      "metadata": {
        "id": "-Qm296kLSvQB"
      }
    },
    {
      "cell_type": "code",
      "source": [],
      "metadata": {
        "id": "P5fD-40qReAh",
        "outputId": "568c1575-1a0d-498f-a129-12fef7370723",
        "colab": {
          "base_uri": "https://localhost:8080/"
        }
      },
      "execution_count": 2,
      "outputs": [
        {
          "output_type": "stream",
          "name": "stdout",
          "text": [
            "150\n"
          ]
        }
      ]
    },
    {
      "cell_type": "markdown",
      "source": [
        "Exercício 2: Encontrar o maior número de uma lista\n",
        "\n",
        "Dada a lista de números:"
      ],
      "metadata": {
        "id": "B7huWFRrTLIg"
      }
    },
    {
      "cell_type": "code",
      "source": [
        "from functools import reduce  as rd\n",
        "\n",
        "numeros_2 = [10, 25, 3, 8, 17]\n",
        "\n",
        "maior_numero = rd(lambda x,y: x if x > y else y, numeros_2)\n",
        "print(maior_numero)\n"
      ],
      "metadata": {
        "id": "BK7hNh3YR2Vq",
        "outputId": "24b74773-1648-4e4c-f644-9a057499b87e",
        "colab": {
          "base_uri": "https://localhost:8080/"
        }
      },
      "execution_count": 11,
      "outputs": [
        {
          "output_type": "stream",
          "name": "stdout",
          "text": [
            "25\n"
          ]
        }
      ]
    },
    {
      "cell_type": "markdown",
      "source": [
        "Exercício 3: Concatenar uma lista de strings\n",
        "\n",
        "Dada a lista de strings:\n",
        "[\"Olá\", \"mundo\", \"como\", \"vai\", \"você\"]\n",
        "\n",
        "Utilize a função reduce para concatenar todas as strings em uma única frase."
      ],
      "metadata": {
        "id": "kWJf82jiVZ0w"
      }
    },
    {
      "cell_type": "code",
      "source": [
        "lista_strings = [\"Olá\", \"mundo\", \"como\", \"vai\", \"você\"]\n",
        "\n",
        "concatenar = rd(lambda x, y: x + ' ' + y, lista_strings)\n",
        "\n",
        "print(concatenar)"
      ],
      "metadata": {
        "id": "A-XIyOLZVG3Q",
        "outputId": "0ffbacbc-fdff-47b6-f39d-cc2c68287438",
        "colab": {
          "base_uri": "https://localhost:8080/"
        }
      },
      "execution_count": 12,
      "outputs": [
        {
          "output_type": "stream",
          "name": "stdout",
          "text": [
            "Olá mundo como vai você\n"
          ]
        }
      ]
    },
    {
      "cell_type": "code",
      "source": [],
      "metadata": {
        "id": "ruM0KOACW-H_"
      },
      "execution_count": null,
      "outputs": []
    },
    {
      "cell_type": "markdown",
      "source": [
        "Exercício 6: Contar quantas vezes um elemento aparece em uma lista\n",
        "\n",
        "Dada a lista de números:\n",
        "[1, 2, 3, 1, 4, 1, 5]\n",
        "\n",
        "Utilize reduce para contar quantas vezes o número 1 aparece na lista."
      ],
      "metadata": {
        "id": "9ksstD2eW7Qw"
      }
    },
    {
      "cell_type": "code",
      "source": [
        "lista_de_números = [1, 2, 3, 1, 4, 1, 5]\n",
        "contador = 0\n",
        "qt_numeros_1 = rd(lambda x, y: x + (1 if y == 1 else 0), lista_de_números, 0 )\n",
        "\n",
        "\n",
        "\n",
        "print(qt_numeros_1)"
      ],
      "metadata": {
        "id": "axR7yQJaW91H",
        "outputId": "72770cd7-2537-4582-e5be-399b85d2d185",
        "colab": {
          "base_uri": "https://localhost:8080/"
        }
      },
      "execution_count": 13,
      "outputs": [
        {
          "output_type": "stream",
          "name": "stdout",
          "text": [
            "3\n"
          ]
        }
      ]
    },
    {
      "cell_type": "code",
      "source": [],
      "metadata": {
        "id": "8DKV7uQuZ9nA"
      },
      "execution_count": null,
      "outputs": []
    }
  ],
  "metadata": {
    "colab": {
      "name": "Conheça o Colab",
      "toc_visible": true,
      "provenance": [],
      "include_colab_link": true
    },
    "kernelspec": {
      "display_name": "Python 3",
      "name": "python3"
    }
  },
  "nbformat": 4,
  "nbformat_minor": 0
}
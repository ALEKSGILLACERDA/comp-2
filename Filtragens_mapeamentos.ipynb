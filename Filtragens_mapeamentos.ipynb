{
  "cells": [
    {
      "cell_type": "markdown",
      "metadata": {
        "id": "view-in-github",
        "colab_type": "text"
      },
      "source": [
        "<a href=\"https://colab.research.google.com/github/ALEKSGILLACERDA/comp-2/blob/main/Filtragens_mapeamentos.ipynb\" target=\"_parent\"><img src=\"https://colab.research.google.com/assets/colab-badge.svg\" alt=\"Open In Colab\"/></a>"
      ]
    },
    {
      "cell_type": "markdown",
      "metadata": {
        "id": "d423e06a"
      },
      "source": [
        "**Exercício 1: Converter temperaturas de Celsius para Fahrenheit**\n",
        "\n",
        "Use `map` e `lambda` para converter uma lista de temperaturas em Celsius para Fahrenheit. A fórmula é `F = (C * 9/5) + 32`."
      ]
    },
    {
      "cell_type": "code",
      "source": [
        "lista_de_numeros = [10, 20, 30, 40, 50]\n",
        "\n",
        "f = list(map(lambda x: (x*9/5) + 32, lista_de_numeros))\n",
        "print(f)"
      ],
      "metadata": {
        "colab": {
          "base_uri": "https://localhost:8080/"
        },
        "id": "_kKtlqXpgm3v",
        "outputId": "8be704e2-7f0a-465f-a370-7efbb85a120f"
      },
      "execution_count": 6,
      "outputs": [
        {
          "output_type": "stream",
          "name": "stdout",
          "text": [
            "[50.0, 68.0, 86.0, 104.0, 122.0]\n"
          ]
        }
      ]
    },
    {
      "cell_type": "code",
      "metadata": {
        "id": "3e252891"
      },
      "source": [
        "temperaturas_celsius = [0, 10, 25, 37, 100]\n",
        "\n"
      ],
      "execution_count": null,
      "outputs": []
    },
    {
      "cell_type": "markdown",
      "metadata": {
        "id": "25aa2e0b"
      },
      "source": [
        "**Exercício 2: Dobrar cada número par em uma lista**\n",
        "\n",
        "Use `map` e `lambda` para criar uma nova lista onde cada número par da lista original é dobrado, e os números ímpares permanecem os mesmos. (Dica: você pode usar uma expressão condicional no lambda)."
      ]
    },
    {
      "cell_type": "code",
      "metadata": {
        "colab": {
          "base_uri": "https://localhost:8080/"
        },
        "id": "a563892d",
        "outputId": "30002c08-51a9-4d7e-e470-abcea6aeb3e7"
      },
      "source": [
        "numeros = [1, 2, 3, 4, 5, 6, 7, 8, 9, 10]\n",
        "\n",
        "dobro = list(map(lambda x: x*2 if x%2 == 0 else x, numeros))\n",
        "\n",
        "print(dobro)"
      ],
      "execution_count": 8,
      "outputs": [
        {
          "output_type": "stream",
          "name": "stdout",
          "text": [
            "[1, 4, 3, 8, 5, 12, 7, 16, 9, 20]\n"
          ]
        }
      ]
    },
    {
      "cell_type": "markdown",
      "metadata": {
        "id": "1f33216e"
      },
      "source": [
        "**Exercício 3: Obter o comprimento de cada palavra em uma lista**\n",
        "\n",
        "Use `map` e `lambda` para criar uma lista contendo o comprimento de cada string em uma lista de palavras."
      ]
    },
    {
      "cell_type": "code",
      "metadata": {
        "colab": {
          "base_uri": "https://localhost:8080/"
        },
        "id": "52d1b4a0",
        "outputId": "d973c7cc-3203-4991-9165-f543ba84536c"
      },
      "source": [
        "palavras = [\"python\", \"programacao\", \"exercicio\", \"lambda\", \"map\"]\n",
        "\n",
        "quantidade = list(map(lambda x: len(x), palavras))\n",
        "print(quantidade)"
      ],
      "execution_count": 11,
      "outputs": [
        {
          "output_type": "stream",
          "name": "stdout",
          "text": [
            "[6, 11, 9, 6, 3]\n"
          ]
        }
      ]
    },
    {
      "cell_type": "markdown",
      "metadata": {
        "id": "eea92203"
      },
      "source": [
        "**Exercício 4: Filtrar números pares de uma lista**\n",
        "\n",
        "Use `filter` e `lambda` para criar uma nova lista contendo apenas os números pares de uma lista original."
      ]
    },
    {
      "cell_type": "code",
      "metadata": {
        "id": "2080f993",
        "outputId": "18bcb98a-e8ed-410d-e6cc-ac02be03b65f",
        "colab": {
          "base_uri": "https://localhost:8080/"
        }
      },
      "source": [
        "numeros = [1, 2, 3, 4, 5, 6, 7, 8, 9, 10]\n",
        "\n",
        "pares = list(filter(lambda x: x%2 == 0, numeros))\n",
        "\n",
        "print(pares)"
      ],
      "execution_count": 13,
      "outputs": [
        {
          "output_type": "stream",
          "name": "stdout",
          "text": [
            "[2, 4, 6, 8, 10]\n"
          ]
        }
      ]
    },
    {
      "cell_type": "markdown",
      "metadata": {
        "id": "8a818e5b"
      },
      "source": [
        "**Exercício 5: Filtrar strings com mais de 5 caracteres**\n",
        "\n",
        "Use `filter` e `lambda` para criar uma nova lista contendo apenas as strings que têm mais de 5 caracteres de uma lista de palavras."
      ]
    },
    {
      "cell_type": "code",
      "metadata": {
        "id": "06aa4ee6",
        "outputId": "59592c88-80ec-4fc9-c066-ed3902abbe4a",
        "colab": {
          "base_uri": "https://localhost:8080/"
        }
      },
      "source": [
        "palavras = [\"python\", \"programacao\", \"exercicio\", \"lambda\", \"map\", \"filtro\"]\n",
        "\n",
        "stgrandes = list(filter(lambda x: len(x)>5, palavras ))\n",
        "print(stgrandes)"
      ],
      "execution_count": 15,
      "outputs": [
        {
          "output_type": "stream",
          "name": "stdout",
          "text": [
            "['python', 'programacao', 'exercicio', 'lambda', 'filtro']\n"
          ]
        }
      ]
    },
    {
      "cell_type": "markdown",
      "metadata": {
        "id": "c4ab586e"
      },
      "source": [
        "**Exercício 6: Filtrar números maiores que 20**\n",
        "\n",
        "Use `filter` e `lambda` para criar uma nova lista contendo apenas os números de uma lista original que são maiores que 20."
      ]
    },
    {
      "cell_type": "code",
      "metadata": {
        "id": "703683b3",
        "outputId": "08b022af-50da-4c3d-f0c5-cf1bf00ab11c",
        "colab": {
          "base_uri": "https://localhost:8080/"
        }
      },
      "source": [
        "lista_de_numeros = [10, 25, 8, 42, 15, 30, 5, 50]\n",
        "\n",
        "filtro = list(filter(lambda x: x > 20, lista_de_numeros ))\n",
        "print(filtro)"
      ],
      "execution_count": 17,
      "outputs": [
        {
          "output_type": "stream",
          "name": "stdout",
          "text": [
            "[25, 42, 30, 50]\n"
          ]
        }
      ]
    },
    {
      "cell_type": "code",
      "source": [
        "from google.colab import drive\n",
        "drive.mount('/content/drive')"
      ],
      "metadata": {
        "id": "af4MCm8SxMmB"
      },
      "execution_count": null,
      "outputs": []
    }
  ],
  "metadata": {
    "colab": {
      "name": "Conheça o Colab",
      "provenance": [],
      "include_colab_link": true
    },
    "kernelspec": {
      "display_name": "Python 3",
      "name": "python3"
    }
  },
  "nbformat": 4,
  "nbformat_minor": 0
}
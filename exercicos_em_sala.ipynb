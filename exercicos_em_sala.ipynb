{
  "cells": [
    {
      "cell_type": "markdown",
      "metadata": {
        "id": "view-in-github",
        "colab_type": "text"
      },
      "source": [
        "<a href=\"https://colab.research.google.com/github/ALEKSGILLACERDA/comp-2/blob/main/exercicos_em_sala.ipynb\" target=\"_parent\"><img src=\"https://colab.research.google.com/assets/colab-badge.svg\" alt=\"Open In Colab\"/></a>"
      ]
    },
    {
      "cell_type": "code",
      "source": [
        "\n",
        "## Problema. Redija um procedimento g(ls) que recebe uma lista de\n",
        "## inteiros e retorna um booleano indicando se há algum número inteiro\n",
        "## par na lista.  Por exemplo,\n",
        "##\n",
        "## g([1, 3, 1, 11]) --> False\n",
        "## g([]) --> False\n",
        "## g([1, 6]) --> True\n",
        "##\n",
        "## Eis como pensar no problema.  Defina um predicado is_even(i) que\n",
        "## diz quando um número é par ou ímpar.  Em seguida, use-o para\n",
        "## filtrar os que são pares.  Quando seu filtro retorna vazio, o que\n",
        "## isso significa?  Responda à pergunta e termine seu procedimento g.\n",
        "\n",
        "def g(ls):\n",
        "  pass\n",
        "\n",
        "## Problema. Considere a série\n",
        "##\n",
        "##    Sigma (-1)^n / (2n + 1) = 1 - 1/3 + 1/5 -  1/7 + 1/9 + ...\n",
        "##\n",
        "## de n = 0 até o infinito, cuja soma converge pra pi/4.  Redija um\n",
        "## procedimento h(n) que dado um natural n, produza uma lista contendo\n",
        "## os termos da série representados (cada um) por um objeto Fraction,\n",
        "## ignorando-se o sinal do termo; por exemplo, se n = 3, seu\n",
        "## procedimento produz\n",
        "##\n",
        "##   [Fraction(1,1), Fraction(1, 3), Fraction(1, 5)].\n",
        "\n",
        "def h(n):\n",
        "  pass\n",
        "\n",
        "## Problema. Redija um procedimento j(fs) que consome a lista\n",
        "## produzida por h(n) do problema anterior e produz outra colocando-se\n",
        "## o sinal negativo em cada termo ímpar; por exemplo,\n",
        "##\n",
        "##    j([Fraction(1,1), Fraction(1, 3), Fraction(1, 5)])\n",
        "##\n",
        "## produz\n",
        "##\n",
        "##    j([Fraction(1,1), Fraction(-1, 3), Fraction(1, 5)]).\n",
        "\n",
        "def j(fs):\n",
        "  pass\n",
        "\n",
        "## Problema. Redija um procedimento k(fs) que consome a lista\n",
        "## produzida por j(fs) do problem anterior e produz um objeto Fraction\n",
        "## que represente a soma.\n",
        "\n",
        "def k(fs):\n",
        "  pass\n",
        "\n",
        "## Problema. Redija um procedimento f(it, e) que consome um iterável\n",
        "## it qualquer (ou seja, uma string, uma lista, uma tupla, um\n",
        "## dicionário et cetera) e um valor /e/ que pode pertencer ao iterável\n",
        "## ou não.  Seu procedimento deve produzir a quantidade de vezes em\n",
        "## que o elemento ocorre no iterável.  Por exemplo,\n",
        "##\n",
        "##  f(\"hello\", \"l\") --> 2\n",
        "##  f([], None) --> 0\n",
        "\n",
        "def f(it, e):\n",
        "  pass\n",
        "\n",
        "## Problema. Uma máscara indica informação que pode ser mostrada ao\n",
        "## usuário e informação que deve ser escondida, isto é, mascarada.\n",
        "## Numa implementação do jogo da forca, usamos uma máscara pra indicar\n",
        "## que posições da palavra secreta o jogador já acertou (e cujo\n",
        "## conteúdo, portanto, deve ser mostrado ao jogador) e que posições\n",
        "## devem continuar escondidas.  Cada vez que o jogador acerta uma\n",
        "## letra da palavra oculta, a máscara é atualizada de forma a ficar\n",
        "## com tracinhos nos lugares de letras que o jogador ainda não\n",
        "## acertou; e mostrar, no seu devido lugar, as letras que ele já\n",
        "## acertou. Por exemplo, se a palavra for “carta”, a máscara atual for\n",
        "##\n",
        "##                           - a - - a\n",
        "##\n",
        "## e o jogador escolher a letra \"t\", a máscara deve ser atualizada pra\n",
        "##\n",
        "##                           - a - t a\n",
        "##\n",
        "## Redija um procedimento chamado atualiza(sec, ls, let) que recebe\n",
        "## como entrada uma string contendo a palavra secreta (por exemplo,\n",
        "## sec = \"carta\"), uma lista cujos elementos sao os caracteres da\n",
        "## máscara atual (por exemplo, ls = [\"-\",\"a\",\"-\",\"-\",\"a\"]) e uma\n",
        "## string com a letra que ele acabou de escolher.  Seu procedimento\n",
        "## deve produzir uma nova máscara, colocando a letra escolhida no seu\n",
        "## devido lugar (caso esteja na palavra).  Se a letra não estiver na\n",
        "## palavra, a nova máscara deve retornar sem modificações.\n",
        "\n",
        "def mascara(sec):\n",
        "  return list(map(lambda x: \"-\", sec))\n",
        "\n",
        "def atualiza(sec, ls, let):\n",
        "  def check(s, x):\n",
        "    if s == let:\n",
        "      return s\n",
        "    else:\n",
        "      return x\n",
        "  return list(map(check, sec, ls))\n",
        "\n",
        "## Problema. Redija um procedimento indice(M, x) que recebe uma matriz\n",
        "## M e um inteiro x e retorna o índice da primeira linha de M que\n",
        "## contém x.  O que definimos como matriz é uma lista de listas.  Por\n",
        "## exemplo, a matriz identidade de dimensões 2x2 é [[1,0], [0,1]].\n",
        "##\n",
        "## Eis uma forma de pensar no problema: primeiro construa um\n",
        "## procedimento p(M, x) que construi uma lista de tuplas contendo o\n",
        "## índice, a linha da matrix e um booleano que diz se x está presente\n",
        "## na linha da matriz ou não.  Dica: use enumerate(fs) pra obter\n",
        "## índices que enumeram uma lista qualquer.  Experimente no seu shell:\n",
        "## list(enumerate(\"abc\")). Em seguida, filtre o resultado de p(M, x)\n",
        "## pelas tuplas que possuem o booleano True.  Por fim, escreva um\n",
        "## procedimento indice(M, x) que produz o índice da primeira\n",
        "## ocorrência.\n",
        "\n",
        "def indice(M, x):\n",
        "  pass\n",
        "\n",
        "def p(M, x):\n",
        "  pass\n",
        "\n",
        "def q(ts):\n",
        "  pass\n",
        "\n",
        "## Problema. Redija um procedimento r(M, k) que consome uma matriz M\n",
        "## e um inteiro k e produza uma nova matriz que represente a\n",
        "## multiplicação M*k.\n",
        "\n",
        "def r(M, k):\n",
        "  pass\n",
        "\n",
        "## Problema. Redija uma procedimento s(M1, M2) que consome duas\n",
        "## matrizes M1, M2 e produz a soma M1 + M2.\n",
        "\n",
        "def s(M1, M2):\n",
        "  pass\n",
        "\n",
        "## Redija um procedimento flatten(ls) que consome uma lista como\n",
        "## [[\"a\"], [\"b\"], [\"c\"]] e produz uma lista [\"a\", \"b\", \"c\"], ou seja,\n",
        "## seu procedimento achata uma lista que tinha ``um certo relevo''.\n",
        "## Você consegue achatar uma lista pegando cada elemento dela e\n",
        "## concatenando-a com a lista vazia.  Observe: [] + [\"a\"] = [\"a\"];\n",
        "## depois [\"a\"] + [\"b\"] = [\"a\", \"b\"]; depois\n",
        "##\n",
        "##   [\"a\", \"b\"] + [\"c\"] = [\"a\", \"b\", \"c\"]\n",
        "##\n",
        "## como desejado.\n",
        "\n",
        "def flatten(ls):\n",
        "  return reduce(lambda x, y: x + y, ls, [])\n",
        "\n",
        "## Problema. Use flatten(ls) e depois map() pra produzir o produto\n",
        "## cartesiano de uma lista de strings.  Chame seu procedimento de\n",
        "## cartesian(ns), sendo ns uma string de nomes.  Por exemplo,\n",
        "##\n",
        "##   cartesian([\"Leo\", \"Sofia\"]) -->\n",
        "##          [(\"Leo\", \"Leo\"), (\"Leo\", \"Sofia\"),\n",
        "##           (\"Sofia\", \"Leo\"), (\"Sofia\", \"Sofia\")]\n",
        "\n",
        "def cartesian(ns):\n",
        "  return flatten(list(map(lambda n: list(map(lambda m: (n, m), ns)), ns)))\n",
        "\n",
        "## Problema.  Relações de afinidades entre pessoas podem ser descritas\n",
        "## através de dicionários.  Por exemplo, suponha que\n",
        "##\n",
        "## 1. Leo curtiu Sofia, Andrea e Bia;\n",
        "## 2. Marcos curtiu Andrea e Bia;\n",
        "## 3. Sofia curtiu Leo;\n",
        "## 4. Alex curtiu Andrea e Marcos;\n",
        "## 5. Andrea curtiu Marcos;\n",
        "## 6. Bia curtiu Sofia.\n",
        "##\n",
        "## Podemos representar essa suposição usando o dicionário\n",
        "\n",
        "def afinidades():\n",
        "  return {\n",
        "    'Leo': ['Sofia', 'Andrea', 'Bia'],\n",
        "    'Marcos': ['Andrea', 'Bia'],\n",
        "    'Sofia': ['Leo'],\n",
        "    'Alex': ['Andrea', 'Marcos'],\n",
        "    'Andrea': ['Marcos'],\n",
        "    'Bia':['Sofia', 'Jack'],\n",
        "    'Jack': []\n",
        "  }\n",
        "\n",
        "## Redija um procedimento match_with_duplicates(d) que consome um\n",
        "## dicionário d como produzido por afinidades() e produz uma lista de\n",
        "## tuplas (p, q) sempre que p tem afinidade mútua com q.  Note que se\n",
        "## p tem afinidade com q, então seu procedimento vai produzir os\n",
        "## duplicatas (p, q) e (q, p).  Por exemplo, Leo tem afinidade mútua\n",
        "## com Sofia porque Leo gosta de Sofia e vice-versa; então ambos\n",
        "##\n",
        "##   (\"Leo\", \"Sofia\") e (\"Sofia\", \"Leo\")\n",
        "##\n",
        "## são parte da resposta relativa ao dicionário afinidades() acima.\n",
        "##\n",
        "## Use cartesian(ns) pra gerar todos as afinidades possíveis e então\n",
        "## use um filtro com um detector que indica quando um par tem\n",
        "## afinidade mútua.  Certifique-se se inserir os duplicatas.\n",
        "\n",
        "def matches_with_duplicates(d):\n",
        "  def mutual(pair):\n",
        "    left, right = pair\n",
        "    return left in d[right] and right in d[left]\n",
        "  return list(filter(mutual, cartesian(d.keys())))\n",
        "\n",
        "## Problema.  Use uma redução pra remover os duplicatas gerados pelo\n",
        "## problema anterior.  Note que seu operador de redução não é\n",
        "## comutativo; logo, o primeiro argumento do seu operador precisa ser\n",
        "## o acumulador (porque essa é a ordem imposta por functool.reduce).\n",
        "\n",
        "def matches(ls):\n",
        "  def addcheck(acc, pair):\n",
        "    left, right = pair\n",
        "    if (right, left) not in acc:\n",
        "      return acc + [(left, right)]\n",
        "    else:\n",
        "      return acc\n",
        "  return list(reduce(addcheck, ls, []))"
      ],
      "metadata": {
        "id": "9v7gy4rBHGjw"
      },
      "execution_count": null,
      "outputs": []
    },
    {
      "cell_type": "code",
      "source": [
        "import functools as f\n",
        "\n",
        "def g(ls):\n",
        "  return f.reduce(lambda x, y: x or ( y % 2 == 0), ls, False)\n",
        "\n",
        "g([1,3,5])\n",
        "\n"
      ],
      "metadata": {
        "colab": {
          "base_uri": "https://localhost:8080/"
        },
        "id": "Yic6GKisg46k",
        "outputId": "0725285b-0459-44b8-9c23-018e30eab1ed"
      },
      "execution_count": 17,
      "outputs": [
        {
          "output_type": "execute_result",
          "data": {
            "text/plain": [
              "False"
            ]
          },
          "metadata": {},
          "execution_count": 17
        }
      ]
    },
    {
      "cell_type": "code",
      "source": [
        "#outra forma de resolver o problema acima\n",
        "\n",
        "def is_even(ls):\n",
        "  return list(map(lambda x: x%2 == 0, ls))\n",
        "\n",
        "\n",
        "def g(ls):\n",
        "  even = is_even(ls)\n",
        "  return any(even)\n",
        "\n",
        "g([1])\n"
      ],
      "metadata": {
        "colab": {
          "base_uri": "https://localhost:8080/"
        },
        "id": "8l9kNMC3IRzB",
        "outputId": "3fb12b94-51b7-49fc-8887-696158d89f3b"
      },
      "execution_count": 30,
      "outputs": [
        {
          "output_type": "execute_result",
          "data": {
            "text/plain": [
              "False"
            ]
          },
          "metadata": {},
          "execution_count": 30
        }
      ]
    },
    {
      "cell_type": "code",
      "source": [
        "from fractions import Fraction\n",
        "from functools import reduce\n",
        "#print(frac)\n",
        "\n",
        "def numerador(n):\n",
        "  numerador = (-1)**n\n",
        "  return numerador\n",
        "\n",
        "def denominador(n):\n",
        "  denominador = (2*n + 1)\n",
        "  return denominador\n",
        "\n",
        "\n",
        "\n",
        "def h(n):\n",
        "  return [Fraction(numerador(i), denominador(i)) for i in range(n +1)]\n",
        "\n",
        "\n",
        "\n",
        "def f(n):\n",
        "    fracoes = h(n)\n",
        "    # muito dificil usar map nesse\n",
        "    transformados = list(map(\n",
        "        lambda item: -item[1] if item[0] % 2 != 0 else item[1],\n",
        "        enumerate(fracoes)\n",
        "    ))\n",
        "    return transformados\n",
        "\n",
        "resultado = f(5)\n",
        "print(resultado)\n",
        "\n",
        "def  k(n):\n",
        "  lista = f(n)\n",
        "  soma = reduce(lambda x, y: x+y, lista)\n",
        "  print(soma)\n",
        "\n",
        "k(5)"
      ],
      "metadata": {
        "colab": {
          "base_uri": "https://localhost:8080/"
        },
        "id": "P2UPNPdajo8c",
        "outputId": "cf2ab261-abfb-4c3d-9da7-ca3b2b187653"
      },
      "execution_count": 33,
      "outputs": [
        {
          "output_type": "stream",
          "name": "stdout",
          "text": [
            "[Fraction(1, 1), Fraction(1, 3), Fraction(1, 5), Fraction(1, 7), Fraction(1, 9), Fraction(1, 11)]\n",
            "6508/3465\n"
          ]
        }
      ]
    },
    {
      "cell_type": "markdown",
      "source": [],
      "metadata": {
        "id": "uy6LCmLPZRUc"
      }
    },
    {
      "cell_type": "code",
      "source": [
        "# Problema. Redija um procedimento f(it, e) que consome um iterável\n",
        "## it qualquer (ou seja, uma string, uma lista, uma tupla, um\n",
        "## dicionário et cetera) e um valor /e/ que pode pertencer ao iterável\n",
        "## ou não.  Seu procedimento deve produzir a quantidade de vezes em\n",
        "# que o elemento ocorre no iterável.\n",
        "\n",
        "\n",
        "def f(it, e):\n",
        "  lista_nova = list(filter(lambda x: x == e, it ))\n",
        "  print(len(lista_nova))\n",
        "f([1, 2, 3, 4], 4)\n",
        "\n"
      ],
      "metadata": {
        "id": "rym46IomCXGa",
        "outputId": "38be760f-d647-4469-c37f-99b4a7d0afa3",
        "colab": {
          "base_uri": "https://localhost:8080/"
        }
      },
      "execution_count": 38,
      "outputs": [
        {
          "output_type": "stream",
          "name": "stdout",
          "text": [
            "1\n"
          ]
        }
      ]
    },
    {
      "cell_type": "code",
      "source": [
        "## Redija um procedimento chamado atualiza(sec, ls, let) que recebe\n",
        "## como entrada uma string contendo a palavra secreta (por exemplo,\n",
        "## sec = \"carta\"), uma lista cujos elementos sao os caracteres da\n",
        "## máscara atual (por exemplo, ls = [\"-\",\"a\",\"-\",\"-\",\"a\"]) e uma\n",
        "## string com a letra que ele acabou de escolher.  Seu procedimento\n",
        "## deve produzir uma nova máscara, colocando a letra escolhida no seu\n",
        "## devido lugar (caso esteja na palavra).  Se a letra não estiver na\n",
        "## palavra, a nova máscara deve retornar sem modificações.\n",
        "\n",
        "def secreto(sec):\n",
        "    return list(map(lambda x: \"-\", sec))\n",
        "\n",
        "def forca(ls, let, sec ):\n",
        "  #muito dificil\n",
        "    nova_mascara = list(map(lambda i: let if sec[i] == let else ls[i], range(len(sec))))\n",
        "    return nova_mascara\n",
        "\n",
        "sec = \"caramba\"\n",
        "ls = secreto(sec)\n",
        "print(ls)\n",
        "\n",
        "ls = forca(ls, \"a\", sec)\n",
        "print(ls)\n",
        "\n"
      ],
      "metadata": {
        "id": "F5Hq6vv_U82v",
        "outputId": "adebf181-a613-4d06-f215-9ef4c153e9e6",
        "colab": {
          "base_uri": "https://localhost:8080/"
        }
      },
      "execution_count": 42,
      "outputs": [
        {
          "output_type": "stream",
          "name": "stdout",
          "text": [
            "['-', '-', '-', '-', '-', '-', '-']\n",
            "['-', 'a', '-', 'a', '-', '-', 'a']\n"
          ]
        }
      ]
    },
    {
      "cell_type": "code",
      "source": [
        "import numpy as np\n",
        "\n",
        "def r(M, k):\n",
        "  matriz_produto = M*k\n",
        "  print(M)\n",
        "  print(matriz_produto)\n",
        "  pass\n",
        "r(np.random.randint(1, 5, size=(3, 3)), 8)"
      ],
      "metadata": {
        "id": "BlIzwmRs3ZPj",
        "outputId": "2d04a037-a969-43e7-8cbb-25f27dd6f1e1",
        "colab": {
          "base_uri": "https://localhost:8080/"
        }
      },
      "execution_count": 44,
      "outputs": [
        {
          "output_type": "stream",
          "name": "stdout",
          "text": [
            "[[1 2 3]\n",
            " [4 4 2]\n",
            " [2 3 2]]\n",
            "[[ 8 16 24]\n",
            " [32 32 16]\n",
            " [16 24 16]]\n"
          ]
        }
      ]
    },
    {
      "cell_type": "code",
      "source": [
        "## Redija um procedimento flatten(ls) que consome uma lista como\n",
        "## [[\"a\"], [\"b\"], [\"c\"]] e produz uma lista [\"a\", \"b\", \"c\"], ou seja,\n",
        "## seu procedimento achata uma lista que tinha ``um certo relevo''.\n",
        "## Você consegue achatar uma lista pegando cada elemento dela e\n",
        "## concatenando-a com a lista vazia.  Observe: [] + [\"a\"] = [\"a\"];\n",
        "## depois [\"a\"] + [\"b\"] = [\"a\", \"b\"]; depois\n",
        "##\n",
        "##   [\"a\", \"b\"] + [\"c\"] = [\"a\", \"b\", \"c\"]\n",
        "\n",
        "def flatten(ls):\n",
        "  return reduce(lambda x, y: x + y, ls, [])\n",
        "\n",
        "flatten([[\"a\"], [\"b\"], [\"c\"]])\n",
        "\n"
      ],
      "metadata": {
        "id": "3NCKeFtI9T6p",
        "outputId": "286482ac-8f24-4fbb-a9c1-069d867abbb5",
        "colab": {
          "base_uri": "https://localhost:8080/"
        }
      },
      "execution_count": 46,
      "outputs": [
        {
          "output_type": "execute_result",
          "data": {
            "text/plain": [
              "['a', 'b', 'c']"
            ]
          },
          "metadata": {},
          "execution_count": 46
        }
      ]
    },
    {
      "cell_type": "code",
      "source": [],
      "metadata": {
        "id": "XBhyetJ_94nF"
      },
      "execution_count": 45,
      "outputs": []
    }
  ],
  "metadata": {
    "colab": {
      "name": "Conheça o Colab",
      "toc_visible": true,
      "provenance": [],
      "include_colab_link": true
    },
    "kernelspec": {
      "display_name": "Python 3",
      "name": "python3"
    }
  },
  "nbformat": 4,
  "nbformat_minor": 0
}